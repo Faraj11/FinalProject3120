{
 "cells": [
  {
   "cell_type": "code",
   "execution_count": 1,
   "metadata": {},
   "outputs": [],
   "source": [
    "from API_key import API_KEY\n",
    "import requests\n",
    "import pandas as pd\n",
    "import matplotlib.pyplot as plt\n",
    "import seaborn as sb\n",
    "\n",
    "BASE_URL = 'https://v3.football.api-sports.io'\n",
    "\n",
    "HEADERS = {\n",
    "    'x-rapidapi-host': 'v3.football.api-sports.io',\n",
    "    'x-rapidapi-key': API_KEY\n",
    "}\n",
    "\n",
    "leagues = {\n",
    "    39: \"England\",\n",
    "    140: \"Spain\",\n",
    "    135: \"Italy\",\n",
    "    78: \"Germany\",\n",
    "    61: \"France\"\n",
    "}\n",
    "\n",
    "season = 2022 # used because it is the latest season data avaliable on the free version of the API"
   ]
  },
  {
   "cell_type": "code",
   "execution_count": 2,
   "metadata": {},
   "outputs": [],
   "source": [
    "def get_standings(league_id, season):\n",
    "    url = f\"{BASE_URL}/standings?league={league_id}&season={season}\"\n",
    "    response = requests.get(url, headers=HEADERS)\n",
    "    standings_data = response.json()\n",
    "    return standings_data['response'][0]['league']['standings'][0]"
   ]
  },
  {
   "cell_type": "code",
   "execution_count": 4,
   "metadata": {},
   "outputs": [],
   "source": [
    "def calculations (league_id, season, country):\n",
    "    standings = get_standings(league_id, season)\n",
    "    df = pd.DataFrame([{\n",
    "        'Rank': team['rank'],\n",
    "        'Team': team['team']['name'],\n",
    "        'Games Played': team['all']['played'],\n",
    "        'Goals For': team['all']['goals']['for']    \n",
    "    } for team in standings])\n",
    "    total_goals = df['Goals For'].sum()\n",
    "    total_games = (df['Games Played'].sum())/2\n",
    "    goalsPerGame = total_goals/total_games\n",
    "    #print(f\"Total Goals Scored in {country}: {total_goals}\")\n",
    "    #print(f\"Total Games Played in {country}: {total_games}\")\n",
    "    print(f\" Goals Scored Per Game In {country}: {goalsPerGame:.2f}\")\n",
    "\n",
    "    plt.barh(country, goalsPerGame)\n",
    "    plt.xlabel('Goals Scored Per Per Game')\n",
    "    plt.ylabel('Country')\n",
    "    plt.title('Goals Per Match by League (2022)')"
   ]
  },
  {
   "cell_type": "code",
   "execution_count": 5,
   "metadata": {},
   "outputs": [
    {
     "name": "stdout",
     "output_type": "stream",
     "text": [
      " Goals Scored Per Game In England: 2.85\n",
      " Goals Scored Per Game In Spain: 2.51\n",
      " Goals Scored Per Game In Italy: 2.56\n",
      " Goals Scored Per Game In Germany: 3.17\n",
      " Goals Scored Per Game In France: 2.81\n"
     ]
    },
    {
     "data": {
      "image/png": "[encoded data removed]",
      "text/plain": [
       "<Figure size 640x480 with 1 Axes>"
      ]
     },
     "metadata": {},
     "output_type": "display_data"
    }
   ],
   "source": [
    "for league_id, country in leagues.items():\n",
    "    calculations(league_id, season, country)\n",
    "plt.show()"
   ]
  },
  {
   "cell_type": "code",
   "execution_count": 33,
   "metadata": {},
   "outputs": [
    {
     "name": "stdout",
     "output_type": "stream",
     "text": [
      "                             Team  Red Cards   League\n",
      "Player                                               \n",
      "Casemiro        Manchester United          2  England\n",
      "Nélson Semedo              Wolves          1  England\n",
      "Douglas Luiz          Aston Villa          1  England\n",
      "A. Doucouré               Everton          1  England\n",
      "T. Mitchell        Crystal Palace          1  England\n",
      "...                           ...        ...      ...\n",
      "E. Wahi               Montpellier          1   France\n",
      "A. Djiku               Strasbourg          1   France\n",
      "K. Danso                     Lens          1   France\n",
      "M. Wieteska         Clermont Foot          1   France\n",
      "S. Abdul Samed               Lens          1   France\n",
      "\n",
      "[100 rows x 3 columns]\n"
     ]
    }
   ],
   "source": [
    "def get_top_red_card_data():\n",
    "    all_top_red_cards = []\n",
    "\n",
    "    for league_id, country in leagues.items():\n",
    "        url = f\"{BASE_URL}/players/topredcards?league={league_id}&season={season}\"\n",
    "        response = requests.get(url, headers=HEADERS)\n",
    "        \n",
    "        if response.status_code == 200:\n",
    "            data = response.json().get('response', [])\n",
    "            if data:\n",
    "                top_red_cards = [{\n",
    "                    'Player': player['player']['name'],\n",
    "                    'Team': player['statistics'][0]['team']['name'],\n",
    "                    'Red Cards': player['statistics'][0]['cards']['red'],\n",
    "                    'League': country\n",
    "                } for player in data]\n",
    "\n",
    "                df_red_cards = pd.DataFrame(top_red_cards).set_index('Player')\n",
    "                all_top_red_cards.append(df_red_cards)\n",
    "\n",
    "    return pd.concat(all_top_red_cards) if all_top_red_cards else pd.DataFrame()\n",
    "\n",
    "final_df = get_top_red_card_data()\n",
    "print(final_df)"
   ]
  },
  {
   "cell_type": "code",
   "execution_count": 34,
   "metadata": {},
   "outputs": [
    {
     "name": "stdout",
     "output_type": "stream",
     "text": [
      "115\n"
     ]
    },
    {
     "data": {
      "text/html": [
       "<div>\n",
       "<style scoped>\n",
       "    .dataframe tbody tr th:only-of-type {\n",
       "        vertical-align: middle;\n",
       "    }\n",
       "\n",
       "    .dataframe tbody tr th {\n",
       "        vertical-align: top;\n",
       "    }\n",
       "\n",
       "    .dataframe thead th {\n",
       "        text-align: right;\n",
       "    }\n",
       "</style>\n",
       "<table border=\"1\" class=\"dataframe\">\n",
       "  <thead>\n",
       "    <tr style=\"text-align: right;\">\n",
       "      <th></th>\n",
       "      <th>Team</th>\n",
       "      <th>Red Cards</th>\n",
       "    </tr>\n",
       "    <tr>\n",
       "      <th>League</th>\n",
       "      <th></th>\n",
       "      <th></th>\n",
       "    </tr>\n",
       "  </thead>\n",
       "  <tbody>\n",
       "    <tr>\n",
       "      <th>England</th>\n",
       "      <td>Manchester UnitedWolvesAston VillaEvertonCryst...</td>\n",
       "      <td>17</td>\n",
       "    </tr>\n",
       "    <tr>\n",
       "      <th>France</th>\n",
       "      <td>ReimsMontpellierAuxerreParis Saint GermainEsta...</td>\n",
       "      <td>25</td>\n",
       "    </tr>\n",
       "    <tr>\n",
       "      <th>Germany</th>\n",
       "      <td>Bayer LeverkusenBorussia MönchengladbachBayer ...</td>\n",
       "      <td>20</td>\n",
       "    </tr>\n",
       "    <tr>\n",
       "      <th>Italy</th>\n",
       "      <td>SassuoloEmpoliBolognaEmpoliMonzaAtalantaUdines...</td>\n",
       "      <td>20</td>\n",
       "    </tr>\n",
       "    <tr>\n",
       "      <th>Spain</th>\n",
       "      <td>SevillaReal BetisCadizReal BetisRayo Vallecano...</td>\n",
       "      <td>33</td>\n",
       "    </tr>\n",
       "  </tbody>\n",
       "</table>\n",
       "</div>"
      ],
      "text/plain": [
       "                                                      Team  Red Cards\n",
       "League                                                               \n",
       "England  Manchester UnitedWolvesAston VillaEvertonCryst...         17\n",
       "France   ReimsMontpellierAuxerreParis Saint GermainEsta...         25\n",
       "Germany  Bayer LeverkusenBorussia MönchengladbachBayer ...         20\n",
       "Italy    SassuoloEmpoliBolognaEmpoliMonzaAtalantaUdines...         20\n",
       "Spain    SevillaReal BetisCadizReal BetisRayo Vallecano...         33"
      ]
     },
     "execution_count": 34,
     "metadata": {},
     "output_type": "execute_result"
    }
   ],
   "source": [
    "print(final_df['Red Cards'].sum())\n",
    "final_df.groupby('League').sum()"
   ]
  }
 ],
 "metadata": {
  "kernelspec": {
   "display_name": "base",
   "language": "python",
   "name": "python3"
  },
  "language_info": {
   "codemirror_mode": {
    "name": "ipython",
    "version": 3
   },
   "file_extension": ".py",
   "mimetype": "text/x-python",
   "name": "python",
   "nbconvert_exporter": "python",
   "pygments_lexer": "ipython3",
   "version": "3.12.4"
  }
 },
 "nbformat": 4,
 "nbformat_minor": 2
}
