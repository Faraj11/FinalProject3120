{
 "cells": [
  {
   "cell_type": "code",
   "execution_count": 9,
   "metadata": {},
   "outputs": [
    {
     "name": "stdout",
     "output_type": "stream",
     "text": [
      "Total Goals Scored in England: 1084\n",
      "Total Goals Scored in Spain: 955\n",
      "Total Goals Scored in Italy: 974\n",
      "Total Goals Scored in Germany: 971\n",
      "Total Goals Scored in France: 1067\n"
     ]
    }
   ],
   "source": [
    "from API_key import API_KEY\n",
    "import requests\n",
    "import pandas as pd\n",
    "\n",
    "BASE_URL = 'https://v3.football.api-sports.io'\n",
    "\n",
    "HEADERS = {\n",
    "    'x-rapidapi-host': 'v3.football.api-sports.io',\n",
    "    'x-rapidapi-key': API_KEY\n",
    "}\n",
    "\n",
    "def get_standings(league_id, season):\n",
    "    url = f\"{BASE_URL}/standings?league={league_id}&season={season}\"\n",
    "    response = requests.get(url, headers=HEADERS)\n",
    "    standings_data = response.json()\n",
    "    return standings_data['response'][0]['league']['standings'][0]\n",
    "\n",
    "def calculate_total_goals(league_id, season, country):\n",
    "    standings = get_standings(league_id, season)\n",
    "    df = pd.DataFrame([{\n",
    "        'Rank': team['rank'],\n",
    "        'Team': team['team']['name'],\n",
    "        'Goals For': team['all']['goals']['for']\n",
    "    } for team in standings])\n",
    "    total_goals = df['Goals For'].sum()\n",
    "    print(f\"Total Goals Scored in {country}: {total_goals}\")\n",
    "\n",
    "leagues = {\n",
    "    39: \"England\",\n",
    "    140: \"Spain\",\n",
    "    135: \"Italy\",\n",
    "    78: \"Germany\",\n",
    "    61: \"France\"\n",
    "}\n",
    "\n",
    "season = 2022 # used because it is the latest season data avaliable on the free version of the API\n",
    "\n",
    "for league_id, country in leagues.items():\n",
    "    calculate_total_goals(league_id, season, country)\n"
   ]
  }
 ],
 "metadata": {
  "kernelspec": {
   "display_name": "base",
   "language": "python",
   "name": "python3"
  },
  "language_info": {
   "codemirror_mode": {
    "name": "ipython",
    "version": 3
   },
   "file_extension": ".py",
   "mimetype": "text/x-python",
   "name": "python",
   "nbconvert_exporter": "python",
   "pygments_lexer": "ipython3",
   "version": "3.12.4"
  }
 },
 "nbformat": 4,
 "nbformat_minor": 2
}
