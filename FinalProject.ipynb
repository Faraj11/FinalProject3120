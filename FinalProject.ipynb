{
 "cells": [
  {
   "cell_type": "markdown",
   "metadata": {},
   "source": [
    "# CIS 3120 Final Project\n",
    "### By: Faraj Arvid"
   ]
  },
  {
   "cell_type": "markdown",
   "metadata": {},
   "source": [
    "Installing necessary Python libraries"
   ]
  },
  {
   "cell_type": "code",
   "execution_count": 25,
   "metadata": {},
   "outputs": [],
   "source": [
    "from API_key import API_KEY\n",
    "import requests\n",
    "import pandas as pd\n",
    "import matplotlib.pyplot as plt"
   ]
  },
  {
   "cell_type": "markdown",
   "metadata": {},
   "source": [
    "Setting up the API:"
   ]
  },
  {
   "cell_type": "code",
   "execution_count": 26,
   "metadata": {},
   "outputs": [],
   "source": [
    "BASE_URL = 'https://v3.football.api-sports.io'\n",
    "\n",
    "HEADERS = {\n",
    "    'x-rapidapi-host': 'v3.football.api-sports.io',\n",
    "    'x-rapidapi-key': API_KEY\n",
    "}\n",
    "\n",
    "# created dictionary for leagues to allow code reusability \n",
    "leagues = {\n",
    "    39: \"England\",\n",
    "    140: \"Spain\",\n",
    "    135: \"Italy\",\n",
    "    78: \"Germany\",\n",
    "    61: \"France\"\n",
    "}\n",
    "\n",
    "season = 2022 # used because it is the latest season that is avaliable on the free version of the API"
   ]
  },
  {
   "cell_type": "markdown",
   "metadata": {},
   "source": [
    "Incorporating OOP, Classes, and Child Classes to provide basic summary of the 5 leagues this project centers on:"
   ]
  },
  {
   "cell_type": "code",
   "execution_count": 27,
   "metadata": {},
   "outputs": [
    {
     "name": "stdout",
     "output_type": "stream",
     "text": [
      "The Premier League is based in England. The Premier League is famous for being the most viewed and most challenging league in the world.\n",
      "\n",
      "La Liga is based in Spain. La Liga is known for playmaking/technical skills and having the best midfielders.\n",
      "\n",
      "Serie A is based in Italy. Serie A is known for physical/rough play and containing the strongest defenders.\n",
      "\n",
      "The Bundesliga is based in Germany. The Bundesliga is famous for providing opportunities for young players to develop into the stars of the future.\n",
      "\n",
      "Ligue 1 is based in France. Ligue 1 is known for chaotic, fast-paced action and being full of tricky, speedy attackers.\n",
      "\n"
     ]
    }
   ],
   "source": [
    "class LeagueInfo:\n",
    "    def __init__(self, league_id, name, reputation):\n",
    "        self.league_id = league_id\n",
    "        self.name = name\n",
    "        self.reputation = reputation\n",
    "        self.country = self.get_country()\n",
    "\n",
    "    def get_country(self):\n",
    "        return leagues.get(self.league_id)\n",
    "\n",
    "    def info(self):\n",
    "        return (f\"{self.name} is based in {self.country}. \"\n",
    "                f\"{self.name} is famous for {self.reputation}.\\n\")\n",
    "\n",
    "class LeagueSummary(LeagueInfo):\n",
    "    def __init__(self, league_id, name, trait1, trait2):\n",
    "        super().__init__(league_id, name, reputation=None)\n",
    "        self.trait1 = trait1\n",
    "        self.trait2 = trait2\n",
    "\n",
    "    def info(self):\n",
    "        return (f\"{self.name} is based in {self.country}. \"\n",
    "                f\"{self.name} is known for {self.trait1} and {self.trait2}.\\n\")\n",
    "\n",
    "test1 = LeagueInfo(39, \"The Premier League\", \"being the most viewed and most challenging league in the world\")\n",
    "test2 = LeagueSummary(140, \"La Liga\", \"playmaking/technical skills\", \"having the best midfielders\")\n",
    "test3 = LeagueSummary(135, \"Serie A\", \"physical/rough play\", \"containing the strongest defenders\")\n",
    "test4 = LeagueInfo(78, \"The Bundesliga\", \"providing opportunities for young players to develop into the stars of the future\")\n",
    "test5 = LeagueSummary(61, \"Ligue 1\", \"chaotic, fast-paced action\", \"being full of tricky, speedy attackers\")\n",
    "\n",
    "for test in [test1, test2, test3, test4, test5]:\n",
    "    print(test.info())"
   ]
  },
  {
   "cell_type": "markdown",
   "metadata": {},
   "source": [
    "Method for fetching standings from 5 particular football leagues in 2022 and combining them all into one dataframe:"
   ]
  },
  {
   "cell_type": "code",
   "execution_count": 28,
   "metadata": {},
   "outputs": [
    {
     "name": "stdout",
     "output_type": "stream",
     "text": [
      "    Rank               Team  Points  Games Played  Goals For  Country\n",
      "0      1    Manchester City      89            38         94  England\n",
      "1      2            Arsenal      84            38         88  England\n",
      "2      3  Manchester United      75            38         58  England\n",
      "3      4          Newcastle      71            38         68  England\n",
      "4      5          Liverpool      67            38         75  England\n",
      "..   ...                ...     ...           ...        ...      ...\n",
      "93    16             Nantes      36            38         37   France\n",
      "94    17            Auxerre      35            38         35   France\n",
      "95    18            Ajaccio      26            38         23   France\n",
      "96    19       Estac Troyes      24            38         45   France\n",
      "97    20             Angers      18            38         33   France\n",
      "\n",
      "[98 rows x 6 columns]\n"
     ]
    }
   ],
   "source": [
    "def get_standings(league_ids, season):\n",
    "    all_standings = []\n",
    "    \n",
    "    for league_id, country in league_ids.items():\n",
    "        url = f\"{BASE_URL}/standings?league={league_id}&season={season}\"\n",
    "        response = requests.get(url, headers=HEADERS)\n",
    "        standings_data = response.json()\n",
    "\n",
    "        standings = standings_data['response'][0]['league']['standings'][0]\n",
    "\n",
    "        league_standings_df = pd.DataFrame([{\n",
    "            'Rank': team['rank'],\n",
    "            'Team': team['team']['name'],\n",
    "            'Points': team['points'],\n",
    "            'Games Played': team['all']['played'],\n",
    "            'Goals For': team['all']['goals']['for'],\n",
    "            'Country': country\n",
    "        } for team in standings])\n",
    "        \n",
    "        all_standings.append(league_standings_df)\n",
    "    \n",
    "    combined_standings_df = pd.concat(all_standings, ignore_index=True)\n",
    "    return combined_standings_df\n",
    "\n",
    "combined_standings = get_standings(leagues, season)\n",
    "print(combined_standings)"
   ]
  },
  {
   "cell_type": "markdown",
   "metadata": {},
   "source": [
    "Data Manipulation of above dataframe (grouping, dropping columns, adding columns, etc) to create new dataframe that calculates the goals per game in each of the 5 leagues:"
   ]
  },
  {
   "cell_type": "code",
   "execution_count": 29,
   "metadata": {},
   "outputs": [
    {
     "data": {
      "text/html": [
       "<div>\n",
       "<style scoped>\n",
       "    .dataframe tbody tr th:only-of-type {\n",
       "        vertical-align: middle;\n",
       "    }\n",
       "\n",
       "    .dataframe tbody tr th {\n",
       "        vertical-align: top;\n",
       "    }\n",
       "\n",
       "    .dataframe thead th {\n",
       "        text-align: right;\n",
       "    }\n",
       "</style>\n",
       "<table border=\"1\" class=\"dataframe\">\n",
       "  <thead>\n",
       "    <tr style=\"text-align: right;\">\n",
       "      <th></th>\n",
       "      <th>Games Played</th>\n",
       "      <th>Goals For</th>\n",
       "      <th>Goals Per Game</th>\n",
       "    </tr>\n",
       "    <tr>\n",
       "      <th>Country</th>\n",
       "      <th></th>\n",
       "      <th></th>\n",
       "      <th></th>\n",
       "    </tr>\n",
       "  </thead>\n",
       "  <tbody>\n",
       "    <tr>\n",
       "      <th>Spain</th>\n",
       "      <td>380.0</td>\n",
       "      <td>955</td>\n",
       "      <td>2.513158</td>\n",
       "    </tr>\n",
       "    <tr>\n",
       "      <th>Italy</th>\n",
       "      <td>380.0</td>\n",
       "      <td>974</td>\n",
       "      <td>2.563158</td>\n",
       "    </tr>\n",
       "    <tr>\n",
       "      <th>France</th>\n",
       "      <td>380.0</td>\n",
       "      <td>1067</td>\n",
       "      <td>2.807895</td>\n",
       "    </tr>\n",
       "    <tr>\n",
       "      <th>England</th>\n",
       "      <td>380.0</td>\n",
       "      <td>1084</td>\n",
       "      <td>2.852632</td>\n",
       "    </tr>\n",
       "    <tr>\n",
       "      <th>Germany</th>\n",
       "      <td>306.0</td>\n",
       "      <td>971</td>\n",
       "      <td>3.173203</td>\n",
       "    </tr>\n",
       "  </tbody>\n",
       "</table>\n",
       "</div>"
      ],
      "text/plain": [
       "         Games Played  Goals For  Goals Per Game\n",
       "Country                                         \n",
       "Spain           380.0        955        2.513158\n",
       "Italy           380.0        974        2.563158\n",
       "France          380.0       1067        2.807895\n",
       "England         380.0       1084        2.852632\n",
       "Germany         306.0        971        3.173203"
      ]
     },
     "execution_count": 29,
     "metadata": {},
     "output_type": "execute_result"
    }
   ],
   "source": [
    "grouped = combined_standings.groupby('Country').sum()\n",
    "cleaned = grouped.drop(['Rank','Team', 'Points'], axis=1) # dropped because they were not relavant for the analysis I wanted to conduct\n",
    "cleaned['Games Played'] = cleaned['Games Played']/2 # necessary because every match involves two teams so value is double the actual value\n",
    "cleaned['Goals Per Game'] = cleaned['Goals For']/cleaned['Games Played']\n",
    "final = cleaned.sort_values(by='Goals Per Game') # sorting before graphing\n",
    "final"
   ]
  },
  {
   "cell_type": "markdown",
   "metadata": {},
   "source": [
    "### First Visualization Created"
   ]
  },
  {
   "cell_type": "markdown",
   "metadata": {},
   "source": [
    "The below bar graph is created through a Class and shows the goals scored per game in each of the 5 leagues and compares the values to each other. The graph has a proper title, axes, and the bar graph values are labeled to provide precise values to use for analysis and insights."
   ]
  },
  {
   "cell_type": "code",
   "execution_count": 30,
   "metadata": {},
   "outputs": [
    {
     "data": {
      "image/png": "[encoded data removed]",
      "text/plain": [
       "<Figure size 640x480 with 1 Axes>"
      ]
     },
     "metadata": {},
     "output_type": "display_data"
    },
    {
     "name": "stdout",
     "output_type": "stream",
     "text": [
      "Analysis and explanation of the graph above is provided in the README file\n"
     ]
    }
   ],
   "source": [
    "class BarChart:\n",
    "    def __init__(self, data, title, xlabel, ylabel):\n",
    "        self.data = data\n",
    "        self.title = title\n",
    "        self.xlabel = xlabel\n",
    "        self.ylabel = ylabel\n",
    "\n",
    "    def generate_chart(self):\n",
    "        bars = plt.barh(self.data.index, self.data['Goals Per Game'])\n",
    "        plt.bar_label(bars, fmt='%.2f', padding=2)\n",
    "        plt.xlabel(self.xlabel)\n",
    "        plt.ylabel(self.ylabel)\n",
    "        plt.title(self.title)\n",
    "        self.show_chart()\n",
    "\n",
    "    def show_chart(self):\n",
    "        plt.show()\n",
    "        print(\"Analysis and explanation of the graph above is provided in the README file\")\n",
    "        \n",
    "bar_chart = BarChart(data=final, title=\"Goals Per Match by League (2022)\", xlabel=\"Goals Scored Per Game\", ylabel=\"Country\")\n",
    "bar_chart.generate_chart()"
   ]
  },
  {
   "cell_type": "markdown",
   "metadata": {},
   "source": [
    "Method for fetching the top 20 players with the most red cards recieved from 5 particular football leagues in 2022 and combining them all into one dataframe:"
   ]
  },
  {
   "cell_type": "code",
   "execution_count": 31,
   "metadata": {},
   "outputs": [
    {
     "name": "stdout",
     "output_type": "stream",
     "text": [
      "                             Team  Red Cards   League\n",
      "Player                                               \n",
      "Casemiro        Manchester United          2  England\n",
      "Nélson Semedo              Wolves          1  England\n",
      "Douglas Luiz          Aston Villa          1  England\n",
      "A. Doucouré               Everton          1  England\n",
      "T. Mitchell        Crystal Palace          1  England\n",
      "...                           ...        ...      ...\n",
      "E. Wahi               Montpellier          1   France\n",
      "A. Djiku               Strasbourg          1   France\n",
      "K. Danso                     Lens          1   France\n",
      "M. Wieteska         Clermont Foot          1   France\n",
      "S. Abdul Samed               Lens          1   France\n",
      "\n",
      "[100 rows x 3 columns]\n"
     ]
    }
   ],
   "source": [
    "def get_top_red_card_data():\n",
    "    all_top_red_cards = []\n",
    "\n",
    "    for league_id, country in leagues.items():\n",
    "        url = f\"{BASE_URL}/players/topredcards?league={league_id}&season={season}\"\n",
    "        response = requests.get(url, headers=HEADERS)\n",
    "        data = response.json().get('response', [])\n",
    "\n",
    "        top_red_cards = [{\n",
    "            'Player': player['player']['name'],\n",
    "            'Team': player['statistics'][0]['team']['name'],\n",
    "            'Red Cards': player['statistics'][0]['cards']['red'],\n",
    "            'League': country\n",
    "        } for player in data]\n",
    "\n",
    "        if top_red_cards:\n",
    "            df_red_cards = pd.DataFrame(top_red_cards).set_index('Player')\n",
    "            all_top_red_cards.append(df_red_cards)\n",
    "\n",
    "    return pd.concat(all_top_red_cards)\n",
    "\n",
    "final_df = get_top_red_card_data()\n",
    "print(final_df)"
   ]
  },
  {
   "cell_type": "markdown",
   "metadata": {},
   "source": [
    "Data Manipulation of above dataframe (grouping and dropping columns) to create new dataframe that calculates the total red cards accumulated in each of the 5 leagues:"
   ]
  },
  {
   "cell_type": "code",
   "execution_count": 32,
   "metadata": {},
   "outputs": [
    {
     "name": "stdout",
     "output_type": "stream",
     "text": [
      "Total amount of red cards across all leagues: 115\n"
     ]
    },
    {
     "data": {
      "text/html": [
       "<div>\n",
       "<style scoped>\n",
       "    .dataframe tbody tr th:only-of-type {\n",
       "        vertical-align: middle;\n",
       "    }\n",
       "\n",
       "    .dataframe tbody tr th {\n",
       "        vertical-align: top;\n",
       "    }\n",
       "\n",
       "    .dataframe thead th {\n",
       "        text-align: right;\n",
       "    }\n",
       "</style>\n",
       "<table border=\"1\" class=\"dataframe\">\n",
       "  <thead>\n",
       "    <tr style=\"text-align: right;\">\n",
       "      <th></th>\n",
       "      <th>Red Cards</th>\n",
       "    </tr>\n",
       "    <tr>\n",
       "      <th>League</th>\n",
       "      <th></th>\n",
       "    </tr>\n",
       "  </thead>\n",
       "  <tbody>\n",
       "    <tr>\n",
       "      <th>England</th>\n",
       "      <td>17</td>\n",
       "    </tr>\n",
       "    <tr>\n",
       "      <th>France</th>\n",
       "      <td>25</td>\n",
       "    </tr>\n",
       "    <tr>\n",
       "      <th>Germany</th>\n",
       "      <td>20</td>\n",
       "    </tr>\n",
       "    <tr>\n",
       "      <th>Italy</th>\n",
       "      <td>20</td>\n",
       "    </tr>\n",
       "    <tr>\n",
       "      <th>Spain</th>\n",
       "      <td>33</td>\n",
       "    </tr>\n",
       "  </tbody>\n",
       "</table>\n",
       "</div>"
      ],
      "text/plain": [
       "         Red Cards\n",
       "League            \n",
       "England         17\n",
       "France          25\n",
       "Germany         20\n",
       "Italy           20\n",
       "Spain           33"
      ]
     },
     "execution_count": 32,
     "metadata": {},
     "output_type": "execute_result"
    }
   ],
   "source": [
    "print('Total amount of red cards across all leagues:', final_df['Red Cards'].sum())\n",
    "cardDF = final_df.groupby('League').sum()\n",
    "cardDF = cardDF.drop('Team', axis=1) # dropped because column was not relavant for the analysis I wanted to conduct\n",
    "cardDF"
   ]
  },
  {
   "cell_type": "markdown",
   "metadata": {},
   "source": [
    "### Second Visualization Created"
   ]
  },
  {
   "cell_type": "markdown",
   "metadata": {},
   "source": [
    "The below pie chart is created through a child Class and shows the distribution of red cards handed out to players across the 5 leagues. The graph has a proper title, labels, and the percent values are rounded and provided allowing for precise values to used for analysis and insights."
   ]
  },
  {
   "cell_type": "code",
   "execution_count": 33,
   "metadata": {},
   "outputs": [
    {
     "data": {
      "image/png": "[encoded data removed]",
      "text/plain": [
       "<Figure size 640x480 with 1 Axes>"
      ]
     },
     "metadata": {},
     "output_type": "display_data"
    },
    {
     "name": "stdout",
     "output_type": "stream",
     "text": [
      "Analysis and explanation of the graph above is provided in the README file\n"
     ]
    }
   ],
   "source": [
    "class PieChart(BarChart):\n",
    "    def __init__(self, data, title):\n",
    "        super().__init__(data, title, xlabel=None, ylabel=None)\n",
    "\n",
    "    def generate_chart(self):\n",
    "        plt.pie(self.data['Red Cards'], labels=self.data.index, autopct='%1.2f%%')\n",
    "        plt.title(self.title)\n",
    "        self.show_chart()\n",
    "        \n",
    "pie_chart = PieChart(data=cardDF, title=\"Red Card Distribution by League\")\n",
    "pie_chart.generate_chart()"
   ]
  }
 ],
 "metadata": {
  "kernelspec": {
   "display_name": "base",
   "language": "python",
   "name": "python3"
  },
  "language_info": {
   "codemirror_mode": {
    "name": "ipython",
    "version": 3
   },
   "file_extension": ".py",
   "mimetype": "text/x-python",
   "name": "python",
   "nbconvert_exporter": "python",
   "pygments_lexer": "ipython3",
   "version": "3.12.4"
  }
 },
 "nbformat": 4,
 "nbformat_minor": 2
}
